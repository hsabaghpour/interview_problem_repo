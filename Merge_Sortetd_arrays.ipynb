{
  "nbformat": 4,
  "nbformat_minor": 0,
  "metadata": {
    "colab": {
      "provenance": [],
      "authorship_tag": "ABX9TyNjBH3U2PfNH55y2iICexHB",
      "include_colab_link": true
    },
    "kernelspec": {
      "name": "python3",
      "display_name": "Python 3"
    },
    "language_info": {
      "name": "python"
    }
  },
  "cells": [
    {
      "cell_type": "markdown",
      "metadata": {
        "id": "view-in-github",
        "colab_type": "text"
      },
      "source": [
        "<a href=\"https://colab.research.google.com/github/hsabaghpour/interview_problem_repo/blob/main/Merge_Sortetd_arrays.ipynb\" target=\"_parent\"><img src=\"https://colab.research.google.com/assets/colab-badge.svg\" alt=\"Open In Colab\"/></a>"
      ]
    },
    {
      "cell_type": "markdown",
      "source": [
        "#**Merge Sorted arrays**\n",
        "\n",
        "You are given two integer arrays nums1 and nums2, sorted in non-decreasing order, and two integers m and n, representing the number of elements in nums1 and nums2 respectively.\n",
        "\n",
        "Merge nums1 and nums2 into a single array sorted in non-decreasing order.\n",
        "\n",
        "The final sorted array should not be returned by the function, but instead be stored inside the array nums1. To accommodate this, nums1 has a length of m + n, where the first m elements denote the elements that should be merged, and the last n elements are set to 0 and should be ignored. nums2 has a length of n.\n",
        "\n",
        "\n",
        "\n",
        "Example 1:\n",
        "\n",
        "Input: nums1 = [1,2,3,0,0,0], m = 3, nums2 = [2,5,6], n = 3\n",
        "Output: [1,2,2,3,5,6]\n",
        "Explanation: The arrays we are merging are [1,2,3] and [2,5,6].\n",
        "The result of the merge is [1,2,2,3,5,6] with the underlined elements coming from nums1.\n",
        "Example 2:\n",
        "\n",
        "Input: nums1 = [1], m = 1, nums2 = [], n = 0\n",
        "Output: [1]\n",
        "Explanation: The arrays we are merging are [1] and [].\n",
        "The result of the merge is [1].\n",
        "Example 3:\n",
        "\n",
        "Input: nums1 = [0], m = 0, nums2 = [1], n = 1\n",
        "Output: [1]\n",
        "Explanation: The arrays we are merging are [] and [1].\n",
        "The result of the merge is [1].\n",
        "Note that because m = 0, there are no elements in nums1. The 0 is only there to ensure the merge result can fit in nums1.\n",
        "\n",
        "\n",
        "Constraints:\n",
        "\n",
        "nums1.length == m + n\n",
        "nums2.length == n\n",
        "0 <= m, n <= 200\n",
        "1 <= m + n <= 200\n",
        "-109 <= nums1[i], nums2[j] <= 109\n",
        "\n",
        "\n",
        "Follow up: Can you come up with an algorithm that runs in O(m + n) time?\n",
        "\n"
      ],
      "metadata": {
        "id": "Q4o8xDBP5wqg"
      }
    },
    {
      "cell_type": "code",
      "execution_count": 5,
      "metadata": {
        "id": "956RtPo25FR3"
      },
      "outputs": [],
      "source": [
        "# Algorithm Idea\n",
        "\n",
        "# \t1.\tTwo-Pointer Approach from the End:\n",
        "# \t•\tStart by initializing two pointers:\n",
        "# \t•\tp1: Pointing to the end of the valid elements in nums1 (i.e., at index m - 1).\n",
        "# \t•\tp2: Pointing to the end of nums2 (i.e., at index n - 1).\n",
        "# \t•\tp: Pointing to the end of the merged array in nums1 (i.e., at index m + n - 1).\n",
        "# \t2.\tMerge in Reverse Order:\n",
        "# \t•\tCompare the elements pointed to by p1 and p2.\n",
        "# \t•\tPlace the larger element at the position p in nums1.\n",
        "# \t•\tMove the corresponding pointer (p1 or p2) and decrement p.\n",
        "# \t•\tRepeat this process until one of the pointers (p1 or p2) goes out of bounds.\n",
        "# \t3.\tCopy Remaining Elements:\n",
        "# \t•\tIf there are remaining elements in nums2 (i.e., p2 has not gone out of bounds), copy them into the beginning of nums1.\n",
        "# \t•\tThere is no need to copy elements from nums1 to itself since they are already in their correct positions.\n",
        "\n",
        "\n",
        "class Solution:\n",
        "    def merge(self, nums1, m, nums2,n ) -> None:\n",
        "        \"\"\"\n",
        "        Do not return anything, modify nums1 in-place instead.\n",
        "\n",
        "        \"\"\"\n",
        "        p1 = m - 1 # pointer to the end of array nums1 at location m\n",
        "        p2 = n - 1 # pointer to the end of array nums1 at location n\n",
        "        p = m + n - 1 # pointer at the end of merged array\n",
        "\n",
        "    #   Compare the elements pointed to by p1 and p2.\n",
        "        while p1>=0 and p2>=0:\n",
        "            if nums1[p1] > nums2[p2]:\n",
        "                nums1[p] = nums1[p1]\n",
        "                p1 -= 1\n",
        "                p -= 1\n",
        "            else:\n",
        "                nums1[p] = nums2[p2]\n",
        "                p2 -= 1\n",
        "                p -= 1\n",
        "        # fill the remained one\n",
        "        if p2 >=0:\n",
        "            while p2>=0:\n",
        "                nums1[p] = nums2[p2]\n",
        "                p2 -= 1\n",
        "                p -= 1"
      ]
    },
    {
      "cell_type": "code",
      "source": [
        "nums1 =[1,2,3,0,0,0]\n",
        "nums2 = [2,5,6]"
      ],
      "metadata": {
        "id": "q1cDNddQ6tks"
      },
      "execution_count": 9,
      "outputs": []
    },
    {
      "cell_type": "code",
      "source": [
        "test = Solution()\n",
        "result = test.merge(nums1,3,nums2,3)\n",
        "print(result)"
      ],
      "metadata": {
        "colab": {
          "base_uri": "https://localhost:8080/"
        },
        "id": "eZthifTb66EK",
        "outputId": "4996861b-1cfd-43f6-9a7f-d979c6fae7fc"
      },
      "execution_count": 10,
      "outputs": [
        {
          "output_type": "stream",
          "name": "stdout",
          "text": [
            "None\n"
          ]
        }
      ]
    }
  ]
}