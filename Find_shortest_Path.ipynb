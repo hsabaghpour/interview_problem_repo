{
  "nbformat": 4,
  "nbformat_minor": 0,
  "metadata": {
    "colab": {
      "provenance": [],
      "authorship_tag": "ABX9TyMyxgjqpvyNOWH026kMwdbJ",
      "include_colab_link": true
    },
    "kernelspec": {
      "name": "python3",
      "display_name": "Python 3"
    },
    "language_info": {
      "name": "python"
    }
  },
  "cells": [
    {
      "cell_type": "markdown",
      "metadata": {
        "id": "view-in-github",
        "colab_type": "text"
      },
      "source": [
        "<a href=\"https://colab.research.google.com/github/hsabaghpour/interview_problem_repo/blob/main/Find_shortest_Path.ipynb\" target=\"_parent\"><img src=\"https://colab.research.google.com/assets/colab-badge.svg\" alt=\"Open In Colab\"/></a>"
      ]
    },
    {
      "cell_type": "code",
      "execution_count": 2,
      "metadata": {
        "id": "mb14n-zYDMOJ"
      },
      "outputs": [],
      "source": [
        "# find the shortest path between start and end nodes and we count the number of edgses not nodes\n",
        "\n",
        "# BFS should be the approach ths DFS is not the best soloution\n",
        "\n",
        "# So we apply \"Queue\" approach"
      ]
    },
    {
      "cell_type": "code",
      "source": [
        "def shortestpath(edges,nodeA,nodeB):\n",
        "  graph = buildGraph(edges)\n",
        "\n",
        "  print(graph)\n",
        "  queue = [[nodeA ,0]]\n",
        "  visited = set()\n",
        "\n",
        "  while queue:\n",
        "    node, distance = queue.pop(0)\n",
        "    if node == nodeB:\n",
        "      return distance\n",
        "    if node in visited:\n",
        "      continue\n",
        "    visited.add(node)\n",
        "    for neighbor in graph[node]:\n",
        "      queue.append([neighbor,distance+1])\n",
        "  return -1\n",
        "\n",
        "\n",
        "\n",
        "def buildGraph(edges):\n",
        "\n",
        "  graph = {}\n",
        "  for edge in edges:\n",
        "    a,b = edge\n",
        "    if a not in graph:\n",
        "      graph[a] = []\n",
        "    if b not in graph:\n",
        "      graph[b] = []\n",
        "    graph[a].append(b)\n",
        "    graph[b].append(a)\n",
        "\n",
        "\n",
        "\n",
        "  return graph"
      ],
      "metadata": {
        "id": "wshrcVVfEQCQ"
      },
      "execution_count": 48,
      "outputs": []
    },
    {
      "cell_type": "code",
      "source": [
        "edges = [\n",
        "  ['w','x'],\n",
        "  ['x','y'],\n",
        "  ['y','z'],\n",
        "  ['z','v'],\n",
        "  ['v','w'],\n",
        "\n",
        "\n",
        "]\n",
        "\n",
        "shortestpath(edges,'w','z')\n",
        "#"
      ],
      "metadata": {
        "colab": {
          "base_uri": "https://localhost:8080/"
        },
        "id": "6Vb8O2jMGu2l",
        "outputId": "9e96b48c-6fd0-4722-a0a5-3742e029aa66"
      },
      "execution_count": 54,
      "outputs": [
        {
          "output_type": "stream",
          "name": "stdout",
          "text": [
            "{'w': ['x', 'v'], 'x': ['w', 'y'], 'y': ['x', 'z'], 'z': ['y', 'v'], 'v': ['z', 'w']}\n"
          ]
        },
        {
          "output_type": "execute_result",
          "data": {
            "text/plain": [
              "2"
            ]
          },
          "metadata": {},
          "execution_count": 54
        }
      ]
    }
  ]
}